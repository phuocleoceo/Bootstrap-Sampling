{
 "cells": [
  {
   "cell_type": "markdown",
   "metadata": {},
   "source": [
    "## Link Dataset\n",
    "https://www.kaggle.com/datasets/manishkc06/engineering-graduate-salary-prediction"
   ]
  },
  {
   "cell_type": "markdown",
   "metadata": {},
   "source": [
    "## Các thư viện cần thiết"
   ]
  },
  {
   "cell_type": "code",
   "execution_count": 1,
   "metadata": {},
   "outputs": [],
   "source": [
    "import matplotlib.pyplot as plt\n",
    "from numpy.random import choice\n",
    "import seaborn as sns\n",
    "import pandas as pd\n",
    "import numpy as np\n",
    "\n",
    "np.random.seed(561)"
   ]
  },
  {
   "cell_type": "markdown",
   "metadata": {},
   "source": [
    "## Đọc file dữ liệu"
   ]
  },
  {
   "cell_type": "markdown",
   "metadata": {},
   "source": [
    "Đọc CSV"
   ]
  },
  {
   "cell_type": "code",
   "execution_count": 2,
   "metadata": {},
   "outputs": [],
   "source": [
    "dataset = pd.read_csv(\"./Engineering_graduate_salary.csv\")"
   ]
  },
  {
   "cell_type": "code",
   "execution_count": 3,
   "metadata": {},
   "outputs": [
    {
     "data": {
      "text/html": [
       "<div>\n",
       "<style scoped>\n",
       "    .dataframe tbody tr th:only-of-type {\n",
       "        vertical-align: middle;\n",
       "    }\n",
       "\n",
       "    .dataframe tbody tr th {\n",
       "        vertical-align: top;\n",
       "    }\n",
       "\n",
       "    .dataframe thead th {\n",
       "        text-align: right;\n",
       "    }\n",
       "</style>\n",
       "<table border=\"1\" class=\"dataframe\">\n",
       "  <thead>\n",
       "    <tr style=\"text-align: right;\">\n",
       "      <th></th>\n",
       "      <th>ID</th>\n",
       "      <th>Gender</th>\n",
       "      <th>DOB</th>\n",
       "      <th>10percentage</th>\n",
       "      <th>10board</th>\n",
       "      <th>12graduation</th>\n",
       "      <th>12percentage</th>\n",
       "      <th>12board</th>\n",
       "      <th>CollegeID</th>\n",
       "      <th>CollegeTier</th>\n",
       "      <th>...</th>\n",
       "      <th>MechanicalEngg</th>\n",
       "      <th>ElectricalEngg</th>\n",
       "      <th>TelecomEngg</th>\n",
       "      <th>CivilEngg</th>\n",
       "      <th>conscientiousness</th>\n",
       "      <th>agreeableness</th>\n",
       "      <th>extraversion</th>\n",
       "      <th>nueroticism</th>\n",
       "      <th>openess_to_experience</th>\n",
       "      <th>Salary</th>\n",
       "    </tr>\n",
       "  </thead>\n",
       "  <tbody>\n",
       "    <tr>\n",
       "      <th>0</th>\n",
       "      <td>604399</td>\n",
       "      <td>f</td>\n",
       "      <td>1990-10-22</td>\n",
       "      <td>87.80</td>\n",
       "      <td>cbse</td>\n",
       "      <td>2009</td>\n",
       "      <td>84.00</td>\n",
       "      <td>cbse</td>\n",
       "      <td>6920</td>\n",
       "      <td>1</td>\n",
       "      <td>...</td>\n",
       "      <td>-1</td>\n",
       "      <td>-1</td>\n",
       "      <td>-1</td>\n",
       "      <td>-1</td>\n",
       "      <td>-0.1590</td>\n",
       "      <td>0.3789</td>\n",
       "      <td>1.2396</td>\n",
       "      <td>0.14590</td>\n",
       "      <td>0.2889</td>\n",
       "      <td>445000</td>\n",
       "    </tr>\n",
       "    <tr>\n",
       "      <th>1</th>\n",
       "      <td>988334</td>\n",
       "      <td>m</td>\n",
       "      <td>1990-05-15</td>\n",
       "      <td>57.00</td>\n",
       "      <td>cbse</td>\n",
       "      <td>2010</td>\n",
       "      <td>64.50</td>\n",
       "      <td>cbse</td>\n",
       "      <td>6624</td>\n",
       "      <td>2</td>\n",
       "      <td>...</td>\n",
       "      <td>-1</td>\n",
       "      <td>-1</td>\n",
       "      <td>-1</td>\n",
       "      <td>-1</td>\n",
       "      <td>1.1336</td>\n",
       "      <td>0.0459</td>\n",
       "      <td>1.2396</td>\n",
       "      <td>0.52620</td>\n",
       "      <td>-0.2859</td>\n",
       "      <td>110000</td>\n",
       "    </tr>\n",
       "    <tr>\n",
       "      <th>2</th>\n",
       "      <td>301647</td>\n",
       "      <td>m</td>\n",
       "      <td>1989-08-21</td>\n",
       "      <td>77.33</td>\n",
       "      <td>maharashtra state board,pune</td>\n",
       "      <td>2007</td>\n",
       "      <td>85.17</td>\n",
       "      <td>amravati divisional board</td>\n",
       "      <td>9084</td>\n",
       "      <td>2</td>\n",
       "      <td>...</td>\n",
       "      <td>-1</td>\n",
       "      <td>-1</td>\n",
       "      <td>260</td>\n",
       "      <td>-1</td>\n",
       "      <td>0.5100</td>\n",
       "      <td>-0.1232</td>\n",
       "      <td>1.5428</td>\n",
       "      <td>-0.29020</td>\n",
       "      <td>-0.2875</td>\n",
       "      <td>255000</td>\n",
       "    </tr>\n",
       "    <tr>\n",
       "      <th>3</th>\n",
       "      <td>582313</td>\n",
       "      <td>m</td>\n",
       "      <td>1991-05-04</td>\n",
       "      <td>84.30</td>\n",
       "      <td>cbse</td>\n",
       "      <td>2009</td>\n",
       "      <td>86.00</td>\n",
       "      <td>cbse</td>\n",
       "      <td>8195</td>\n",
       "      <td>1</td>\n",
       "      <td>...</td>\n",
       "      <td>-1</td>\n",
       "      <td>-1</td>\n",
       "      <td>-1</td>\n",
       "      <td>-1</td>\n",
       "      <td>-0.4463</td>\n",
       "      <td>0.2124</td>\n",
       "      <td>0.3174</td>\n",
       "      <td>0.27270</td>\n",
       "      <td>0.4805</td>\n",
       "      <td>420000</td>\n",
       "    </tr>\n",
       "    <tr>\n",
       "      <th>4</th>\n",
       "      <td>339001</td>\n",
       "      <td>f</td>\n",
       "      <td>1990-10-30</td>\n",
       "      <td>82.00</td>\n",
       "      <td>cbse</td>\n",
       "      <td>2008</td>\n",
       "      <td>75.00</td>\n",
       "      <td>cbse</td>\n",
       "      <td>4889</td>\n",
       "      <td>2</td>\n",
       "      <td>...</td>\n",
       "      <td>-1</td>\n",
       "      <td>-1</td>\n",
       "      <td>-1</td>\n",
       "      <td>-1</td>\n",
       "      <td>-1.4992</td>\n",
       "      <td>-0.7473</td>\n",
       "      <td>-1.0697</td>\n",
       "      <td>0.06223</td>\n",
       "      <td>0.1864</td>\n",
       "      <td>200000</td>\n",
       "    </tr>\n",
       "  </tbody>\n",
       "</table>\n",
       "<p>5 rows × 34 columns</p>\n",
       "</div>"
      ],
      "text/plain": [
       "       ID Gender         DOB  10percentage                       10board  \\\n",
       "0  604399      f  1990-10-22         87.80                          cbse   \n",
       "1  988334      m  1990-05-15         57.00                          cbse   \n",
       "2  301647      m  1989-08-21         77.33  maharashtra state board,pune   \n",
       "3  582313      m  1991-05-04         84.30                          cbse   \n",
       "4  339001      f  1990-10-30         82.00                          cbse   \n",
       "\n",
       "   12graduation  12percentage                    12board  CollegeID  \\\n",
       "0          2009         84.00                       cbse       6920   \n",
       "1          2010         64.50                       cbse       6624   \n",
       "2          2007         85.17  amravati divisional board       9084   \n",
       "3          2009         86.00                       cbse       8195   \n",
       "4          2008         75.00                       cbse       4889   \n",
       "\n",
       "   CollegeTier  ... MechanicalEngg ElectricalEngg  TelecomEngg  CivilEngg  \\\n",
       "0            1  ...             -1             -1           -1         -1   \n",
       "1            2  ...             -1             -1           -1         -1   \n",
       "2            2  ...             -1             -1          260         -1   \n",
       "3            1  ...             -1             -1           -1         -1   \n",
       "4            2  ...             -1             -1           -1         -1   \n",
       "\n",
       "   conscientiousness agreeableness  extraversion  nueroticism  \\\n",
       "0            -0.1590        0.3789        1.2396      0.14590   \n",
       "1             1.1336        0.0459        1.2396      0.52620   \n",
       "2             0.5100       -0.1232        1.5428     -0.29020   \n",
       "3            -0.4463        0.2124        0.3174      0.27270   \n",
       "4            -1.4992       -0.7473       -1.0697      0.06223   \n",
       "\n",
       "   openess_to_experience  Salary  \n",
       "0                 0.2889  445000  \n",
       "1                -0.2859  110000  \n",
       "2                -0.2875  255000  \n",
       "3                 0.4805  420000  \n",
       "4                 0.1864  200000  \n",
       "\n",
       "[5 rows x 34 columns]"
      ]
     },
     "execution_count": 3,
     "metadata": {},
     "output_type": "execute_result"
    }
   ],
   "source": [
    "dataset.head()"
   ]
  },
  {
   "cell_type": "markdown",
   "metadata": {},
   "source": [
    "Số record"
   ]
  },
  {
   "cell_type": "code",
   "execution_count": 4,
   "metadata": {},
   "outputs": [
    {
     "data": {
      "text/plain": [
       "2998"
      ]
     },
     "execution_count": 4,
     "metadata": {},
     "output_type": "execute_result"
    }
   ],
   "source": [
    "len(dataset)"
   ]
  },
  {
   "cell_type": "markdown",
   "metadata": {},
   "source": [
    "Các cột của dataset"
   ]
  },
  {
   "cell_type": "code",
   "execution_count": 5,
   "metadata": {},
   "outputs": [
    {
     "name": "stdout",
     "output_type": "stream",
     "text": [
      "['ID', 'Gender', 'DOB', '10percentage', '10board', '12graduation', '12percentage', '12board', 'CollegeID', 'CollegeTier', 'Degree', 'Specialization', 'collegeGPA', 'CollegeCityID', 'CollegeCityTier', 'CollegeState', 'GraduationYear', 'English', 'Logical', 'Quant', 'Domain', 'ComputerProgramming', 'ElectronicsAndSemicon', 'ComputerScience', 'MechanicalEngg', 'ElectricalEngg', 'TelecomEngg', 'CivilEngg', 'conscientiousness', 'agreeableness', 'extraversion', 'nueroticism', 'openess_to_experience', 'Salary']\n"
     ]
    }
   ],
   "source": [
    "print(list(dataset))"
   ]
  },
  {
   "cell_type": "markdown",
   "metadata": {},
   "source": [
    "## Làm sạch dữ liệu"
   ]
  },
  {
   "cell_type": "markdown",
   "metadata": {},
   "source": [
    "Xóa các cột dữ liệu không cần thiết"
   ]
  },
  {
   "cell_type": "code",
   "execution_count": 6,
   "metadata": {},
   "outputs": [],
   "source": [
    "unnecessary_column = [\"DOB\", \"10percentage\", \"10board\", \"12graduation\", \n",
    "                      \"12percentage\", \"12board\", \"CollegeID\", \"CollegeCityID\", \n",
    "                      \"CollegeCityTier\", \"CollegeState\", \"English\", \"Logical\",\n",
    "                      \"Quant\", \"Domain\", \"ComputerProgramming\", \"ElectronicsAndSemicon\",\n",
    "                      \"ComputerScience\", \"MechanicalEngg\", \"ElectricalEngg\", \"TelecomEngg\",\n",
    "                      \"CivilEngg\", \"conscientiousness\", \"agreeableness\", \"extraversion\",\n",
    "                      \"nueroticism\", \"openess_to_experience\"]\n",
    "dataset = dataset.drop(unnecessary_column, axis=1)"
   ]
  },
  {
   "cell_type": "markdown",
   "metadata": {},
   "source": [
    "Format lại các giá trị cần thiết"
   ]
  },
  {
   "cell_type": "code",
   "execution_count": 7,
   "metadata": {},
   "outputs": [
    {
     "data": {
      "text/html": [
       "<div>\n",
       "<style scoped>\n",
       "    .dataframe tbody tr th:only-of-type {\n",
       "        vertical-align: middle;\n",
       "    }\n",
       "\n",
       "    .dataframe tbody tr th {\n",
       "        vertical-align: top;\n",
       "    }\n",
       "\n",
       "    .dataframe thead th {\n",
       "        text-align: right;\n",
       "    }\n",
       "</style>\n",
       "<table border=\"1\" class=\"dataframe\">\n",
       "  <thead>\n",
       "    <tr style=\"text-align: right;\">\n",
       "      <th></th>\n",
       "      <th>ID</th>\n",
       "      <th>Gender</th>\n",
       "      <th>CollegeTier</th>\n",
       "      <th>Degree</th>\n",
       "      <th>Specialization</th>\n",
       "      <th>collegeGPA</th>\n",
       "      <th>GraduationYear</th>\n",
       "      <th>Salary</th>\n",
       "    </tr>\n",
       "  </thead>\n",
       "  <tbody>\n",
       "    <tr>\n",
       "      <th>0</th>\n",
       "      <td>604399</td>\n",
       "      <td>Female</td>\n",
       "      <td>1</td>\n",
       "      <td>B.Tech/B.E.</td>\n",
       "      <td>Instrumentation And Control Engineering</td>\n",
       "      <td>73.82</td>\n",
       "      <td>2013</td>\n",
       "      <td>445000</td>\n",
       "    </tr>\n",
       "    <tr>\n",
       "      <th>1</th>\n",
       "      <td>988334</td>\n",
       "      <td>Male</td>\n",
       "      <td>2</td>\n",
       "      <td>B.Tech/B.E.</td>\n",
       "      <td>Computer Science &amp; Engineering</td>\n",
       "      <td>65.00</td>\n",
       "      <td>2014</td>\n",
       "      <td>110000</td>\n",
       "    </tr>\n",
       "    <tr>\n",
       "      <th>2</th>\n",
       "      <td>301647</td>\n",
       "      <td>Male</td>\n",
       "      <td>2</td>\n",
       "      <td>B.Tech/B.E.</td>\n",
       "      <td>Electronics &amp; Telecommunications</td>\n",
       "      <td>61.94</td>\n",
       "      <td>2011</td>\n",
       "      <td>255000</td>\n",
       "    </tr>\n",
       "    <tr>\n",
       "      <th>3</th>\n",
       "      <td>582313</td>\n",
       "      <td>Male</td>\n",
       "      <td>1</td>\n",
       "      <td>B.Tech/B.E.</td>\n",
       "      <td>Computer Science &amp; Engineering</td>\n",
       "      <td>80.40</td>\n",
       "      <td>2013</td>\n",
       "      <td>420000</td>\n",
       "    </tr>\n",
       "    <tr>\n",
       "      <th>4</th>\n",
       "      <td>339001</td>\n",
       "      <td>Female</td>\n",
       "      <td>2</td>\n",
       "      <td>B.Tech/B.E.</td>\n",
       "      <td>Biotechnology</td>\n",
       "      <td>64.30</td>\n",
       "      <td>2012</td>\n",
       "      <td>200000</td>\n",
       "    </tr>\n",
       "  </tbody>\n",
       "</table>\n",
       "</div>"
      ],
      "text/plain": [
       "       ID  Gender  CollegeTier       Degree  \\\n",
       "0  604399  Female            1  B.Tech/B.E.   \n",
       "1  988334    Male            2  B.Tech/B.E.   \n",
       "2  301647    Male            2  B.Tech/B.E.   \n",
       "3  582313    Male            1  B.Tech/B.E.   \n",
       "4  339001  Female            2  B.Tech/B.E.   \n",
       "\n",
       "                            Specialization  collegeGPA  GraduationYear  Salary  \n",
       "0  Instrumentation And Control Engineering       73.82            2013  445000  \n",
       "1           Computer Science & Engineering       65.00            2014  110000  \n",
       "2         Electronics & Telecommunications       61.94            2011  255000  \n",
       "3           Computer Science & Engineering       80.40            2013  420000  \n",
       "4                            Biotechnology       64.30            2012  200000  "
      ]
     },
     "execution_count": 7,
     "metadata": {},
     "output_type": "execute_result"
    }
   ],
   "source": [
    "# Format giới tính\n",
    "dataset[\"Gender\"] = dataset[\"Gender\"].apply(lambda g:\"Male\" if g==\"m\" else \"Female\")\n",
    "\n",
    "# Format chuyên ngành, viết hoa chữ đầu tiên của mỗi từ\n",
    "dataset[\"Specialization\"] = dataset[\"Specialization\"].apply(lambda s:s.title())\n",
    "\n",
    "# Dataset cuối cùng ta sẽ sử dụng\n",
    "dataset.head()"
   ]
  },
  {
   "cell_type": "markdown",
   "metadata": {},
   "source": [
    "## Phương pháp lấy mẫu Bootstrap"
   ]
  },
  {
   "cell_type": "markdown",
   "metadata": {},
   "source": [
    "Hàm bootstrap"
   ]
  },
  {
   "cell_type": "code",
   "execution_count": 14,
   "metadata": {},
   "outputs": [],
   "source": [
    "def Bootstrap_Statistic(n,M,x):\n",
    "    \"\"\"\n",
    "    n : kích thước mẫu\n",
    "    M : số lần lấy mẫu bootstrap\n",
    "    x : khoảng tin cậy\n",
    "    \"\"\"\n",
    "    # Mảng 2 chiều chứa M mẫu kích thước n\n",
    "    sample = np.array([np.zeros(n)]*M)\n",
    "    # Mảng chứa M giá trị trung bình\n",
    "    sample_mean = np.zeros(M)\n",
    "    for i in range(M):\n",
    "        # Chọn ra ngẫu nhiên n mẫu\n",
    "        sample[i] = choice(dataset[\"Salary\"], size=n)\n",
    "        sample_mean[i] = np.mean(sample[i])\n",
    "\n",
    "    # print(sample.shape, sample)\n",
    "    # print(sample_mean.shape, sample_mean)\n",
    "\n",
    "    # Đồ thị histogram\n",
    "    sns.histplot(data=sample_mean, kde=True)\n",
    "\n",
    "    # Mức ý nghĩa\n",
    "    alpha = (100-x)/2\n",
    "    # 2 biên khoảng tin cậy\n",
    "    # Sắp xếp sample_mean tăng dần rồi cắt đi 2 đầu\n",
    "    sample_mean_asc = np.sort(sample_mean)\n",
    "    lower_bound = sample_mean_asc[int(alpha/100*M)]\n",
    "    upper_bound = sample_mean_asc[int((1-alpha/100)*M)]\n",
    "\n",
    "    # Sử dụng hàm Numpy Percentile\n",
    "    # lower_bound = np.percentile(sample_mean, alpha)\n",
    "    # upper_bound = np.percentile(sample_mean, 100-alpha)\n",
    "\n",
    "    print(\">> Dải tin cậy : \",lower_bound,\" - \",upper_bound)\n",
    "    plt.axvline(lower_bound, color=\"red\", linewidth=2)\n",
    "    plt.axvline(upper_bound, color=\"red\", linewidth=2)"
   ]
  },
  {
   "cell_type": "markdown",
   "metadata": {},
   "source": [
    "Histogram và dải tin cậy của Salary (lương)"
   ]
  },
  {
   "cell_type": "code",
   "execution_count": 85,
   "metadata": {},
   "outputs": [
    {
     "name": "stdout",
     "output_type": "stream",
     "text": [
      ">> Dải tin cậy :  285500.0  -  332850.0\n"
     ]
    },
    {
     "data": {
      "image/png": "[encoded data removed]",
      "text/plain": [
       "<Figure size 432x288 with 1 Axes>"
      ]
     },
     "metadata": {
      "needs_background": "light"
     },
     "output_type": "display_data"
    }
   ],
   "source": [
    "Bootstrap_Statistic(200, 100, 90)"
   ]
  },
  {
   "cell_type": "markdown",
   "metadata": {},
   "source": [
    "## Thống kê mô tả (Descriptive Statistics) "
   ]
  },
  {
   "cell_type": "markdown",
   "metadata": {},
   "source": [
    "#### Số lượng kĩ sư Nam nhiều hơn kĩ sư Nữ.\n",
    "\n",
    "Một điều khá dễ hiểu đối với các khối ngành về kĩ thuật."
   ]
  },
  {
   "cell_type": "code",
   "execution_count": 70,
   "metadata": {},
   "outputs": [
    {
     "data": {
      "text/plain": [
       "<AxesSubplot:xlabel='Gender', ylabel='count'>"
      ]
     },
     "execution_count": 70,
     "metadata": {},
     "output_type": "execute_result"
    },
    {
     "data": {
      "image/png": "[encoded data removed]",
      "text/plain": [
       "<Figure size 432x288 with 1 Axes>"
      ]
     },
     "metadata": {
      "needs_background": "light"
     },
     "output_type": "display_data"
    }
   ],
   "source": [
    "sns.countplot(x=\"Gender\", data=dataset, palette=\"Set2\")"
   ]
  },
  {
   "cell_type": "markdown",
   "metadata": {},
   "source": [
    "#### 5 ngành học hot nhất và số lượng kĩ sư Nam/Nữ theo học\n",
    "Sỗ kĩ sư nữ ít hơn kĩ sư nam khá nhiều, chỉ bằng khoảng hơn 1/3 số lượng kĩ sư Nam tương ứng cùng ngành."
   ]
  },
  {
   "cell_type": "code",
   "execution_count": 68,
   "metadata": {},
   "outputs": [
    {
     "data": {
      "text/plain": [
       "<AxesSubplot:xlabel='Specialization', ylabel='count'>"
      ]
     },
     "execution_count": 68,
     "metadata": {},
     "output_type": "execute_result"
    },
    {
     "data": {
      "image/png": "[encoded data removed]",
      "text/plain": [
       "<Figure size 1440x504 with 1 Axes>"
      ]
     },
     "metadata": {
      "needs_background": "light"
     },
     "output_type": "display_data"
    }
   ],
   "source": [
    "plt.figure(figsize=(20, 7))\n",
    "# Dùng thuộc tính order để giới hạn số lượng Group được vẽ ra\n",
    "sns.countplot(data=dataset, x=\"Specialization\", hue=\"Gender\", palette=\"Set2\",\n",
    "              order=pd.value_counts(dataset[\"Specialization\"]).iloc[:5].index)"
   ]
  },
  {
   "cell_type": "markdown",
   "metadata": {},
   "source": [
    "#### Phân bố lương"
   ]
  },
  {
   "cell_type": "code",
   "execution_count": 75,
   "metadata": {},
   "outputs": [
    {
     "data": {
      "text/plain": [
       "<AxesSubplot:xlabel='Salary'>"
      ]
     },
     "execution_count": 75,
     "metadata": {},
     "output_type": "execute_result"
    },
    {
     "data": {
      "image/png": "[encoded data removed]",
      "text/plain": [
       "<Figure size 1800x504 with 1 Axes>"
      ]
     },
     "metadata": {
      "needs_background": "light"
     },
     "output_type": "display_data"
    }
   ],
   "source": [
    "plt.figure(figsize=(25, 7))\n",
    "sns.boxplot(x=\"Salary\", data=dataset)"
   ]
  },
  {
   "cell_type": "markdown",
   "metadata": {},
   "source": [
    "#### Phân bố lương theo Tier của trường Cao đẳng\n",
    "\n",
    "Số lượng kĩ sư tốt nghiệp các trường Tier2 nhiều hơn, có mức lương trải dài hơn.\n",
    "\n",
    "Kĩ sư học ở cả 2 Tier đa số có mức lương dưới 100.000\n",
    "\n",
    "Mức lương không phụ thuộc hoàn toàn vào Tier của trường mà sẽ phụ thuộc những yếu tố khác, chủ yếu là năng lực bản thân. "
   ]
  },
  {
   "cell_type": "code",
   "execution_count": 86,
   "metadata": {},
   "outputs": [
    {
     "data": {
      "text/plain": [
       "<seaborn.axisgrid.FacetGrid at 0x7f00802a71f0>"
      ]
     },
     "execution_count": 86,
     "metadata": {},
     "output_type": "execute_result"
    },
    {
     "data": {
      "image/png": "[encoded data removed]",
      "text/plain": [
       "<Figure size 360x360 with 1 Axes>"
      ]
     },
     "metadata": {
      "needs_background": "light"
     },
     "output_type": "display_data"
    }
   ],
   "source": [
    "sns.catplot(x=\"CollegeTier\", y=\"Salary\", data=dataset)"
   ]
  }
 ],
 "metadata": {
  "interpreter": {
   "hash": "aee8b7b246df8f9039afb4144a1f6fd8d2ca17a180786b69acc140d282b71a49"
  },
  "kernelspec": {
   "display_name": "Python 3.9.7 64-bit",
   "language": "python",
   "name": "python3"
  },
  "language_info": {
   "codemirror_mode": {
    "name": "ipython",
    "version": 3
   },
   "file_extension": ".py",
   "mimetype": "text/x-python",
   "name": "python",
   "nbconvert_exporter": "python",
   "pygments_lexer": "ipython3",
   "version": "3.9.7"
  },
  "orig_nbformat": 4
 },
 "nbformat": 4,
 "nbformat_minor": 2
}
