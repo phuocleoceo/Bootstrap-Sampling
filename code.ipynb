{
 "cells": [
  {
   "cell_type": "code",
   "execution_count": 175,
   "metadata": {},
   "outputs": [],
   "source": [
    "import matplotlib.pyplot as plt\n",
    "from numpy.random import choice\n",
    "import seaborn as sns\n",
    "import pandas as pd\n",
    "import numpy as np\n",
    "\n",
    "np.random.seed(561)"
   ]
  },
  {
   "cell_type": "markdown",
   "metadata": {},
   "source": [
    "## Đọc file dữ liệu"
   ]
  },
  {
   "cell_type": "code",
   "execution_count": 176,
   "metadata": {},
   "outputs": [],
   "source": [
    "dataset = pd.read_csv(\"./Unicorn_Companies.csv\")"
   ]
  },
  {
   "cell_type": "code",
   "execution_count": 177,
   "metadata": {},
   "outputs": [
    {
     "data": {
      "text/html": [
       "<div>\n",
       "<style scoped>\n",
       "    .dataframe tbody tr th:only-of-type {\n",
       "        vertical-align: middle;\n",
       "    }\n",
       "\n",
       "    .dataframe tbody tr th {\n",
       "        vertical-align: top;\n",
       "    }\n",
       "\n",
       "    .dataframe thead th {\n",
       "        text-align: right;\n",
       "    }\n",
       "</style>\n",
       "<table border=\"1\" class=\"dataframe\">\n",
       "  <thead>\n",
       "    <tr style=\"text-align: right;\">\n",
       "      <th></th>\n",
       "      <th>Company</th>\n",
       "      <th>Valuation ($B)</th>\n",
       "      <th>Date Joined</th>\n",
       "      <th>Country</th>\n",
       "      <th>City</th>\n",
       "      <th>Industry</th>\n",
       "      <th>Select Inverstors</th>\n",
       "      <th>Founded Year</th>\n",
       "      <th>Total Raised</th>\n",
       "      <th>Financial Stage</th>\n",
       "      <th>Investors Count</th>\n",
       "      <th>Deal Terms</th>\n",
       "      <th>Portfolio Exits</th>\n",
       "    </tr>\n",
       "  </thead>\n",
       "  <tbody>\n",
       "    <tr>\n",
       "      <th>0</th>\n",
       "      <td>Bytedance</td>\n",
       "      <td>$140</td>\n",
       "      <td>4/7/2017</td>\n",
       "      <td>China</td>\n",
       "      <td>Beijing</td>\n",
       "      <td>Artificial intelligence</td>\n",
       "      <td>Sequoia Capital China, SIG Asia Investments, S...</td>\n",
       "      <td>2012</td>\n",
       "      <td>$7.44B</td>\n",
       "      <td>IPO</td>\n",
       "      <td>28</td>\n",
       "      <td>8</td>\n",
       "      <td>5</td>\n",
       "    </tr>\n",
       "    <tr>\n",
       "      <th>1</th>\n",
       "      <td>SpaceX</td>\n",
       "      <td>$100.3</td>\n",
       "      <td>12/1/2012</td>\n",
       "      <td>United States</td>\n",
       "      <td>Hawthorne</td>\n",
       "      <td>Other</td>\n",
       "      <td>Founders Fund, Draper Fisher Jurvetson, Rothen...</td>\n",
       "      <td>2002</td>\n",
       "      <td>$6.874B</td>\n",
       "      <td>None</td>\n",
       "      <td>29</td>\n",
       "      <td>12</td>\n",
       "      <td>None</td>\n",
       "    </tr>\n",
       "    <tr>\n",
       "      <th>2</th>\n",
       "      <td>Stripe</td>\n",
       "      <td>$95</td>\n",
       "      <td>1/23/2014</td>\n",
       "      <td>United States</td>\n",
       "      <td>San Francisco</td>\n",
       "      <td>Fintech</td>\n",
       "      <td>Khosla Ventures, LowercaseCapital, capitalG</td>\n",
       "      <td>2010</td>\n",
       "      <td>$2.901B</td>\n",
       "      <td>Asset</td>\n",
       "      <td>39</td>\n",
       "      <td>12</td>\n",
       "      <td>1</td>\n",
       "    </tr>\n",
       "    <tr>\n",
       "      <th>3</th>\n",
       "      <td>Klarna</td>\n",
       "      <td>$45.6</td>\n",
       "      <td>12/12/2011</td>\n",
       "      <td>Sweden</td>\n",
       "      <td>Stockholm</td>\n",
       "      <td>Fintech</td>\n",
       "      <td>Institutional Venture Partners, Sequoia Capita...</td>\n",
       "      <td>2005</td>\n",
       "      <td>$3.472B</td>\n",
       "      <td>Acquired</td>\n",
       "      <td>56</td>\n",
       "      <td>13</td>\n",
       "      <td>1</td>\n",
       "    </tr>\n",
       "    <tr>\n",
       "      <th>4</th>\n",
       "      <td>Epic Games</td>\n",
       "      <td>$42</td>\n",
       "      <td>10/26/2018</td>\n",
       "      <td>United States</td>\n",
       "      <td>Cary</td>\n",
       "      <td>Other</td>\n",
       "      <td>Tencent Holdings, KKR, Smash Ventures</td>\n",
       "      <td>1991</td>\n",
       "      <td>$4.377B</td>\n",
       "      <td>Acquired</td>\n",
       "      <td>25</td>\n",
       "      <td>5</td>\n",
       "      <td>2</td>\n",
       "    </tr>\n",
       "  </tbody>\n",
       "</table>\n",
       "</div>"
      ],
      "text/plain": [
       "      Company Valuation ($B) Date Joined        Country           City  \\\n",
       "0   Bytedance           $140    4/7/2017          China        Beijing   \n",
       "1      SpaceX         $100.3   12/1/2012  United States      Hawthorne   \n",
       "2      Stripe            $95   1/23/2014  United States  San Francisco   \n",
       "3      Klarna          $45.6  12/12/2011         Sweden      Stockholm   \n",
       "4  Epic Games            $42  10/26/2018  United States           Cary   \n",
       "\n",
       "                  Industry                                  Select Inverstors  \\\n",
       "0  Artificial intelligence  Sequoia Capital China, SIG Asia Investments, S...   \n",
       "1                    Other  Founders Fund, Draper Fisher Jurvetson, Rothen...   \n",
       "2                  Fintech        Khosla Ventures, LowercaseCapital, capitalG   \n",
       "3                  Fintech  Institutional Venture Partners, Sequoia Capita...   \n",
       "4                    Other              Tencent Holdings, KKR, Smash Ventures   \n",
       "\n",
       "  Founded Year Total Raised Financial Stage Investors Count Deal Terms  \\\n",
       "0         2012       $7.44B             IPO              28          8   \n",
       "1         2002      $6.874B            None              29         12   \n",
       "2         2010      $2.901B           Asset              39         12   \n",
       "3         2005      $3.472B        Acquired              56         13   \n",
       "4         1991      $4.377B        Acquired              25          5   \n",
       "\n",
       "  Portfolio Exits  \n",
       "0               5  \n",
       "1            None  \n",
       "2               1  \n",
       "3               1  \n",
       "4               2  "
      ]
     },
     "execution_count": 177,
     "metadata": {},
     "output_type": "execute_result"
    }
   ],
   "source": [
    "dataset.head()"
   ]
  },
  {
   "cell_type": "markdown",
   "metadata": {},
   "source": [
    "### Số record"
   ]
  },
  {
   "cell_type": "code",
   "execution_count": 178,
   "metadata": {},
   "outputs": [
    {
     "data": {
      "text/plain": [
       "1037"
      ]
     },
     "execution_count": 178,
     "metadata": {},
     "output_type": "execute_result"
    }
   ],
   "source": [
    "len(dataset)"
   ]
  },
  {
   "cell_type": "markdown",
   "metadata": {},
   "source": [
    "### Các cột của dataset"
   ]
  },
  {
   "cell_type": "code",
   "execution_count": 179,
   "metadata": {},
   "outputs": [
    {
     "data": {
      "text/plain": [
       "['Company',\n",
       " 'Valuation ($B)',\n",
       " 'Date Joined',\n",
       " 'Country',\n",
       " 'City',\n",
       " 'Industry',\n",
       " 'Select Inverstors',\n",
       " 'Founded Year',\n",
       " 'Total Raised',\n",
       " 'Financial Stage',\n",
       " 'Investors Count',\n",
       " 'Deal Terms',\n",
       " 'Portfolio Exits']"
      ]
     },
     "execution_count": 179,
     "metadata": {},
     "output_type": "execute_result"
    }
   ],
   "source": [
    "list(dataset)"
   ]
  },
  {
   "cell_type": "markdown",
   "metadata": {},
   "source": [
    "## Làm sạch dữ liệu"
   ]
  },
  {
   "cell_type": "markdown",
   "metadata": {},
   "source": [
    "### Làm sạch các dữ liệu None"
   ]
  },
  {
   "cell_type": "code",
   "execution_count": 180,
   "metadata": {},
   "outputs": [],
   "source": [
    "dataset[\"Deal Terms\"] = dataset[\"Deal Terms\"].replace(\"None\", 0)\n",
    "dataset['Portfolio Exits'] = dataset['Portfolio Exits'].replace(\"None\", 0)"
   ]
  },
  {
   "cell_type": "markdown",
   "metadata": {},
   "source": [
    "### Format lại định dạng tiền"
   ]
  },
  {
   "cell_type": "code",
   "execution_count": 181,
   "metadata": {},
   "outputs": [],
   "source": [
    "def format_total_raised(t_r):\n",
    "    \"\"\"\n",
    "    Hàm format lại Total_Raised về dạng Billion\n",
    "    t_r : tổng giá trị tăng trưởng ở dạng $xB hoặc $xM\n",
    "    \"\"\"\n",
    "    if t_r == \"None\":\n",
    "        return 0\n",
    "    num = t_r[1:-1]\n",
    "    post = t_r[-1]\n",
    "    if post == \"B\":\n",
    "        return float(num)\n",
    "    else:\n",
    "        return float(num)/1000"
   ]
  },
  {
   "cell_type": "code",
   "execution_count": 182,
   "metadata": {},
   "outputs": [],
   "source": [
    "# Loại bỏ kí tự $B ở cột giá trị công ty\n",
    "dataset[\"Valuation ($B)\"] = dataset[\"Valuation ($B)\"].apply(lambda v:float(v[1:]))\n",
    "# Tạo cột mới, loại bỏ kì tự $B và chuyển lại giá trị về Billion ở cột Tổng tăng trưởng\n",
    "dataset[\"Total Raised ($B)\"] = dataset[\"Total Raised\"].apply(lambda r:format_total_raised(r))"
   ]
  },
  {
   "cell_type": "markdown",
   "metadata": {},
   "source": [
    "## Phương pháp lấy mẫu Bootstrap"
   ]
  },
  {
   "cell_type": "code",
   "execution_count": 220,
   "metadata": {},
   "outputs": [],
   "source": [
    "def Bootstrap_Statistic(n,M,x):\n",
    "    \"\"\"\n",
    "    n : kích thước mẫu\n",
    "    M : số lần lấy mẫu bootstrap\n",
    "    x : khoảng tin cậy\n",
    "    \"\"\"\n",
    "    # Mảng 2 chiều chứa M mẫu kích thước n\n",
    "    sample = np.array([np.zeros(n)]*M)\n",
    "    # Mảng chứa M giá trị trung bình\n",
    "    sample_mean = np.zeros(M)\n",
    "    for i in range(M):\n",
    "        # Chọn ra ngẫu nhiên n mẫu\n",
    "        sample[i] = choice(dataset[\"Valuation ($B)\"], size=n)\n",
    "        sample_mean[i] = np.mean(sample[i])\n",
    "\n",
    "    # print(sample.shape, sample)\n",
    "    # print(sample_mean.shape, sample_mean)\n",
    "\n",
    "    # Đồ thị histogram\n",
    "    sns.histplot(data=sample_mean, kde=True)\n",
    "\n",
    "    # Mức ý nghĩa\n",
    "    alpha = (100-x)/2\n",
    "    # 2 biên khoảng tin cậy\n",
    "    # Sắp xếp sample_mean tăng dần rồi cắt đi 2 đầu\n",
    "    sample_mean_asc = np.sort(sample_mean)\n",
    "    lower_bound = sample_mean_asc[int(alpha/100*M)]\n",
    "    upper_bound = sample_mean_asc[int((1-alpha/100)*M)]\n",
    "\n",
    "    # Sử dụng hàm Numpy Percentile\n",
    "    # lower_bound = np.percentile(sample_mean, alpha)\n",
    "    # upper_bound = np.percentile(sample_mean, 100-alpha)\n",
    "\n",
    "    print(\">> Khoang tin cay : \",lower_bound,\" - \",upper_bound)\n",
    "    plt.axvline(lower_bound, color=\"red\", linewidth=2)\n",
    "    plt.axvline(upper_bound, color=\"red\", linewidth=2)"
   ]
  },
  {
   "cell_type": "code",
   "execution_count": 221,
   "metadata": {},
   "outputs": [
    {
     "name": "stdout",
     "output_type": "stream",
     "text": [
      ">> Khoang tin cay :  2.6598  -  4.28775\n"
     ]
    },
    {
     "data": {
      "image/png": "[encoded data removed]",
      "text/plain": [
       "<Figure size 432x288 with 1 Axes>"
      ]
     },
     "metadata": {
      "needs_background": "light"
     },
     "output_type": "display_data"
    }
   ],
   "source": [
    "Bootstrap_Statistic(200, 100, 90)"
   ]
  }
 ],
 "metadata": {
  "interpreter": {
   "hash": "aee8b7b246df8f9039afb4144a1f6fd8d2ca17a180786b69acc140d282b71a49"
  },
  "kernelspec": {
   "display_name": "Python 3.9.7 64-bit",
   "language": "python",
   "name": "python3"
  },
  "language_info": {
   "codemirror_mode": {
    "name": "ipython",
    "version": 3
   },
   "file_extension": ".py",
   "mimetype": "text/x-python",
   "name": "python",
   "nbconvert_exporter": "python",
   "pygments_lexer": "ipython3",
   "version": "3.9.7"
  },
  "orig_nbformat": 4
 },
 "nbformat": 4,
 "nbformat_minor": 2
}
