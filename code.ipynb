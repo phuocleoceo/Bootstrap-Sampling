{
 "cells": [
  {
   "cell_type": "code",
   "execution_count": 105,
   "metadata": {},
   "outputs": [],
   "source": [
    "import matplotlib.pyplot as plt\n",
    "from numpy.random import choice\n",
    "import seaborn as sns\n",
    "import pandas as pd\n",
    "import numpy as np\n",
    "\n",
    "np.random.seed(561)"
   ]
  },
  {
   "cell_type": "markdown",
   "metadata": {},
   "source": [
    "## Đọc file dữ liệu"
   ]
  },
  {
   "cell_type": "code",
   "execution_count": 106,
   "metadata": {},
   "outputs": [],
   "source": [
    "dataset = pd.read_csv(\"./Unicorn_Companies.csv\")"
   ]
  },
  {
   "cell_type": "code",
   "execution_count": null,
   "metadata": {},
   "outputs": [],
   "source": [
    "dataset.head()"
   ]
  },
  {
   "cell_type": "markdown",
   "metadata": {},
   "source": [
    "### Số record"
   ]
  },
  {
   "cell_type": "code",
   "execution_count": 108,
   "metadata": {},
   "outputs": [
    {
     "data": {
      "text/plain": [
       "1037"
      ]
     },
     "execution_count": 108,
     "metadata": {},
     "output_type": "execute_result"
    }
   ],
   "source": [
    "len(dataset)"
   ]
  },
  {
   "cell_type": "markdown",
   "metadata": {},
   "source": [
    "### Các cột của dataset"
   ]
  },
  {
   "cell_type": "code",
   "execution_count": 133,
   "metadata": {},
   "outputs": [
    {
     "data": {
      "text/plain": [
       "['Company',\n",
       " 'Valuation ($B)',\n",
       " 'Date Joined',\n",
       " 'Country',\n",
       " 'City',\n",
       " 'Industry',\n",
       " 'Select Inverstors',\n",
       " 'Founded Year',\n",
       " 'Total Raised',\n",
       " 'Financial Stage',\n",
       " 'Investors Count',\n",
       " 'Deal Terms',\n",
       " 'Portfolio Exits',\n",
       " 'Total Raised ($B)']"
      ]
     },
     "execution_count": 133,
     "metadata": {},
     "output_type": "execute_result"
    }
   ],
   "source": [
    "list(dataset)"
   ]
  },
  {
   "cell_type": "markdown",
   "metadata": {},
   "source": [
    "## Làm sạch dữ liệu"
   ]
  },
  {
   "cell_type": "code",
   "execution_count": 110,
   "metadata": {},
   "outputs": [],
   "source": [
    "def format_total_raised(t_r):\n",
    "    \"\"\"\n",
    "    Hàm format lại Total_Raised về dạng Billion\n",
    "    t_r : tổng giá trị tăng trưởng ở dạng $xB hoặc $xM\n",
    "    \"\"\"\n",
    "    if t_r == \"None\":\n",
    "        return 0\n",
    "    num = t_r[1:-1]\n",
    "    post = t_r[-1]\n",
    "    if post == \"B\":\n",
    "        return float(num)\n",
    "    else:\n",
    "        return float(num)/1000"
   ]
  },
  {
   "cell_type": "code",
   "execution_count": 111,
   "metadata": {},
   "outputs": [],
   "source": [
    "dataset[\"Valuation ($B)\"] = dataset[\"Valuation ($B)\"].apply(lambda v:float(v[1:]))\n",
    "dataset[\"Total Raised ($B)\"] = dataset[\"Total Raised\"].apply(lambda r:format_total_raised(r))"
   ]
  },
  {
   "cell_type": "markdown",
   "metadata": {},
   "source": [
    "## Phương pháp lấy mẫu Bootstrap"
   ]
  },
  {
   "cell_type": "code",
   "execution_count": 131,
   "metadata": {},
   "outputs": [],
   "source": [
    "def Bootstrap_Statistic(n,M,x):\n",
    "    \"\"\"\n",
    "    n : kích thước mẫu\n",
    "    M : số lần lấy mẫu bootstrap\n",
    "    x : khoảng tin cậy\n",
    "    \"\"\"\n",
    "    # Mảng 2 chiều chứa M mẫu kích thước n\n",
    "    sample = np.array([np.zeros(n)]*M)\n",
    "    # Mảng chứa M giá trị trung bình\n",
    "    sample_mean = np.zeros(M)\n",
    "    for i in range(M):\n",
    "        # Chọn ra ngẫu nhiên n mẫu\n",
    "        sample[i] = choice(dataset[\"Valuation ($B)\"], size=n)\n",
    "        sample_mean[i] = np.mean(sample[i])\n",
    "\n",
    "    # print(sample.shape, sample)\n",
    "    # print(sample_mean.shape, sample_mean)\n",
    "\n",
    "    # Đồ thị histogram\n",
    "    sns.histplot(data=sample_mean)\n",
    "    # sns.kdeplot(data = sample_mean)\n",
    "\n",
    "    # Mức ý nghĩa\n",
    "    alpha = (100-x)/2\n",
    "    # Sắp xếp sample_mean tăng dần\n",
    "    sample_mean_asc = np.sort(sample_mean)\n",
    "    # 2 biên khoảng tin cậy\n",
    "    lower_bound = sample_mean_asc[int(alpha/100*M)]\n",
    "    upper_bound = sample_mean_asc[int((1-alpha/100)*M)]\n",
    "    print(\">> Khoang tin cay : \",lower_bound,\" - \",upper_bound)\n",
    "    plt.axvline(lower_bound, color=\"red\", linewidth=2)\n",
    "    plt.axvline(upper_bound, color=\"red\", linewidth=2)\n"
   ]
  },
  {
   "cell_type": "code",
   "execution_count": 130,
   "metadata": {},
   "outputs": [
    {
     "name": "stdout",
     "output_type": "stream",
     "text": [
      "(100, 350) [[ 1.2   1.2   1.4  ...  6.   17.5   3.7 ]\n",
      " [ 1.5   1.2   1.17 ...  3.5   1.1   4.6 ]\n",
      " [ 5.    3.    1.5  ...  8.4   4.5   4.  ]\n",
      " ...\n",
      " [ 1.    1.    1.   ...  1.    1.15  3.92]\n",
      " [ 3.5   3.7   5.   ...  1.3   1.1   9.6 ]\n",
      " [ 1.6   1.5   1.   ...  2.2   5.2   3.5 ]]\n",
      "(100,) [3.25194286 3.52488571 3.15505714 3.51931429 3.11468571 3.29031429\n",
      " 3.90991429 2.99954286 3.57325714 3.38382857 3.59411429 2.81854286\n",
      " 2.86582857 3.58254286 2.77094286 3.10214286 2.60042857 3.77028571\n",
      " 3.31125714 3.42865714 3.09342857 3.05025714 2.67965714 3.79834286\n",
      " 3.52645714 3.93717143 3.00757143 3.41411429 3.34191429 3.87974286\n",
      " 3.10448571 2.81754286 2.91697143 2.9232     2.81542857 3.60148571\n",
      " 3.4166     2.78637143 3.29177143 3.6934     3.3188     2.87442857\n",
      " 3.36568571 3.358      2.80602857 4.1036     2.98365714 3.43148571\n",
      " 3.62131429 3.47577143 3.5298     2.79294286 3.00728571 2.92465714\n",
      " 3.2932     3.14711429 2.95754286 2.73082857 4.29997143 3.93645714\n",
      " 3.46657143 4.37385714 3.35882857 3.78454286 3.24408571 3.66742857\n",
      " 4.03011429 3.95328571 3.6996     4.11328571 3.54762857 3.74931429\n",
      " 3.4314     3.52988571 3.31168571 3.67811429 3.7194     3.40188571\n",
      " 3.43068571 3.0554     3.85534286 2.93705714 3.20671429 2.91742857\n",
      " 3.07728571 3.73637143 3.76177143 3.20228571 3.52025714 3.62268571\n",
      " 2.99382857 3.70725714 3.52505714 3.29377143 3.90094286 3.64791429\n",
      " 2.98702857 3.31117143 3.06602857 3.48748571]\n",
      ">> Khoang tin cay :  2.792942857142857  -  4.030114285714285\n"
     ]
    },
    {
     "data": {
      "image/png": "[encoded data removed]",
      "text/plain": [
       "<Figure size 432x288 with 1 Axes>"
      ]
     },
     "metadata": {
      "needs_background": "light"
     },
     "output_type": "display_data"
    }
   ],
   "source": [
    "Bootstrap_Statistic(350, 100, 90)"
   ]
  }
 ],
 "metadata": {
  "interpreter": {
   "hash": "aee8b7b246df8f9039afb4144a1f6fd8d2ca17a180786b69acc140d282b71a49"
  },
  "kernelspec": {
   "display_name": "Python 3.9.7 64-bit",
   "language": "python",
   "name": "python3"
  },
  "language_info": {
   "codemirror_mode": {
    "name": "ipython",
    "version": 3
   },
   "file_extension": ".py",
   "mimetype": "text/x-python",
   "name": "python",
   "nbconvert_exporter": "python",
   "pygments_lexer": "ipython3",
   "version": "3.9.7"
  },
  "orig_nbformat": 4
 },
 "nbformat": 4,
 "nbformat_minor": 2
}
